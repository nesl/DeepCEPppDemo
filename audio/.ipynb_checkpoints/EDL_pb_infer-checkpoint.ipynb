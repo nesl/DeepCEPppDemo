{
 "cells": [
  {
   "cell_type": "code",
   "execution_count": 1,
   "metadata": {},
   "outputs": [
    {
     "name": "stderr",
     "output_type": "stream",
     "text": [
      "/home/tianwei/anaconda3/lib/python3.6/site-packages/h5py/__init__.py:36: FutureWarning: Conversion of the second argument of issubdtype from `float` to `np.floating` is deprecated. In future, it will be treated as `np.float64 == np.dtype(float).type`.\n",
      "  from ._conv import register_converters as _register_converters\n"
     ]
    }
   ],
   "source": [
    "import tensorflow as tf\n",
    "import pickle\n",
    "import numpy as np"
   ]
  },
  {
   "cell_type": "code",
   "execution_count": 2,
   "metadata": {},
   "outputs": [
    {
     "name": "stdout",
     "output_type": "stream",
     "text": [
      "pb_model.pb\n"
     ]
    }
   ],
   "source": [
    "model_filepath = 'pb_model.pb'\n",
    "\n",
    "print(model_filepath)"
   ]
  },
  {
   "cell_type": "code",
   "execution_count": 3,
   "metadata": {},
   "outputs": [
    {
     "name": "stdout",
     "output_type": "stream",
     "text": [
      "Loading model...\n",
      "Check out the input placeholders:\n",
      "input => Placeholder\n"
     ]
    }
   ],
   "source": [
    "'''\n",
    "Lode trained model.\n",
    "'''\n",
    "print('Loading model...')\n",
    "graph = tf.Graph()\n",
    "sess = tf.InteractiveSession(graph = graph)\n",
    "\n",
    "with tf.gfile.GFile(model_filepath, 'rb') as f:\n",
    "    graph_def = tf.GraphDef()\n",
    "    graph_def.ParseFromString(f.read())\n",
    "\n",
    "print('Check out the input placeholders:')\n",
    "nodes = [n.name + ' => ' +  n.op for n in graph_def.node if n.op in ('Placeholder')]\n",
    "for node in nodes:\n",
    "    print(node)"
   ]
  },
  {
   "cell_type": "code",
   "execution_count": 4,
   "metadata": {},
   "outputs": [
    {
     "name": "stdout",
     "output_type": "stream",
     "text": [
      "Model loading complete!\n"
     ]
    }
   ],
   "source": [
    "# Define input tensor\n",
    "model_input = tf.placeholder(tf.float32, shape=[None,40,40,3], name = 'input')\n",
    "\n",
    "\n",
    "# model_input = tf.placeholder(np.float32, shape = [None, 32, 32, 3], name='input')\n",
    "# dropout_rate = tf.placeholder(tf.float32, shape = [], name = 'dropout_rate')\n",
    "\n",
    "tf.import_graph_def(graph_def, {'input': model_input})\n",
    "\n",
    "print('Model loading complete!')"
   ]
  },
  {
   "cell_type": "code",
   "execution_count": 5,
   "metadata": {},
   "outputs": [],
   "source": [
    "# Know your output node name\n",
    "output_tensor = graph.get_tensor_by_name(\"import/logits_tensor/BiasAdd:0\")\n",
    "# output = sess.run(output_tensor, feed_dict =  {model_input:  X_test[0:2] })"
   ]
  },
  {
   "cell_type": "markdown",
   "metadata": {},
   "source": [
    "# Loading data"
   ]
  },
  {
   "cell_type": "code",
   "execution_count": 6,
   "metadata": {},
   "outputs": [],
   "source": [
    "## AUDIO DATA PROCESSING\n",
    "import os\n",
    "import librosa\n",
    "\n",
    "window_size = 512\n",
    "## This for mel spectogram resolution\n",
    "n_bands = 60\n",
    "n_mfcc = 40\n",
    "n_frames = 40\n",
    "\n",
    "def windows(data, n_frames):\n",
    "    ws = window_size * (n_frames - 1)\n",
    "    start = 0\n",
    "    while start < len(data):\n",
    "        yield start, start + ws, ws\n",
    "        start += (ws / 2)\n",
    "        ## OVERLAP OF 50%\n",
    "## END windows"
   ]
  },
  {
   "cell_type": "code",
   "execution_count": 7,
   "metadata": {},
   "outputs": [],
   "source": [
    "def one_hot_encode(labels, num_class):\n",
    "    n_labels = len(labels)\n",
    "#     n_unique_labels = len(np.unique(labels))\n",
    "    n_unique_labels = num_class\n",
    "    one_hot_encode = np.zeros((n_labels,n_unique_labels))\n",
    "    one_hot_encode[np.arange(n_labels), labels] = 1\n",
    "    return one_hot_encode"
   ]
  },
  {
   "cell_type": "code",
   "execution_count": 8,
   "metadata": {},
   "outputs": [],
   "source": [
    "def data_processing(work_dir):\n",
    "#     work_dir = \"gta_sound\"\n",
    "    raw_features = []\n",
    "    _labels = []\n",
    "    cnt = 0\n",
    "\n",
    "    print(\"Working on dir: \", work_dir)\n",
    "\n",
    "\n",
    "    for fs in os.listdir(work_dir ):\n",
    "    #     if \".wav\" not in fs: continue\n",
    "        # print(\"Try Loading file: \", fs)\n",
    "        sound_clip, sr = librosa.load(work_dir + \"/\" + fs)\n",
    "        label = 6\n",
    "        print(cnt, \"Try Loading file: \", fs, \" class: \", label)\n",
    "        cnt += 1\n",
    "        ## Work of file bacthes\n",
    "        for (start, end, ws) in windows(sound_clip, n_frames):\n",
    "            ## Get the sound part\n",
    "            signal = sound_clip[int(start): int(end)]\n",
    "            if len(signal) == ws:\n",
    "                mfcc_spec = librosa.feature.mfcc(signal, n_mfcc=n_mfcc, n_mels=n_bands)\n",
    "    #             print(mfcc_spec.shape)\n",
    "                mfcc_spec = mfcc_spec.T.flatten()[:, np.newaxis].T\n",
    "    #             print(mfcc_spec.shape)\n",
    "                raw_features.append(mfcc_spec)\n",
    "                _labels.append(label)\n",
    "\n",
    "    print(\"Loaded \", cnt, \" files\")\n",
    "    ## Add a new dimension\n",
    "    raw_features = np.asarray(raw_features).reshape(len(raw_features), n_mfcc, n_frames, 1)\n",
    "\n",
    "\n",
    "\n",
    "    ## Concate 2 elements on axis=3\n",
    "    _features = np.concatenate((raw_features, np.zeros(np.shape(raw_features))), axis=3)\n",
    "\n",
    "    _features = np.concatenate((_features, np.zeros(np.shape(raw_features))), axis=3)\n",
    "\n",
    "\n",
    "    for i in range(len(_features)):\n",
    "        _features[i, :, :, 1] = librosa.feature.delta(order=1, data=_features[i, :, :, 0])\n",
    "        _features[i, :, :, 2] = librosa.feature.delta(order=2, data=_features[i, :, :, 0])\n",
    "\n",
    "    # normalize, one-hot data\n",
    "    test_x = _features\n",
    "    test_x = test_x.astype('float32')\n",
    "    test_x /= 255\n",
    "\n",
    "    test_y = one_hot_encode(np.array(_labels), 10)\n",
    "    print(test_x.shape, test_y.shape)\n",
    "    \n",
    "    return test_x, test_y"
   ]
  },
  {
   "cell_type": "code",
   "execution_count": 10,
   "metadata": {},
   "outputs": [
    {
     "name": "stdout",
     "output_type": "stream",
     "text": [
      "Working on dir:  sound\n",
      "0 Try Loading file:  pistol.wav  class:  6\n",
      "1 Try Loading file:  pistol_magnum.wav  class:  6\n",
      "2 Try Loading file:  rifle_ak47_single_fire.wav  class:  6\n",
      "Loaded  3  files\n",
      "(7, 40, 40, 3) (7, 10)\n"
     ]
    },
    {
     "name": "stderr",
     "output_type": "stream",
     "text": [
      "/home/tianwei/anaconda3/lib/python3.6/site-packages/scipy/signal/_arraytools.py:45: FutureWarning: Using a non-tuple sequence for multidimensional indexing is deprecated; use `arr[tuple(seq)]` instead of `arr[seq]`. In the future this will be interpreted as an array index, `arr[np.array(seq)]`, which will result either in an error or a different result.\n",
      "  b = a[a_slice]\n"
     ]
    }
   ],
   "source": [
    "# work_dir = 'gun_shot'\n",
    "work_dir = 'sound'\n",
    "\n",
    "test_x, test_y = data_processing(work_dir)"
   ]
  },
  {
   "cell_type": "markdown",
   "metadata": {},
   "source": [
    "# Testing on loaded model"
   ]
  },
  {
   "cell_type": "code",
   "execution_count": 12,
   "metadata": {},
   "outputs": [
    {
     "name": "stdout",
     "output_type": "stream",
     "text": [
      "(7, 10)\n"
     ]
    }
   ],
   "source": [
    "output = sess.run(output_tensor, feed_dict =  {model_input:  test_x })\n",
    "print(output.shape)"
   ]
  },
  {
   "cell_type": "code",
   "execution_count": 13,
   "metadata": {},
   "outputs": [
    {
     "name": "stdout",
     "output_type": "stream",
     "text": [
      "[6 6 6 3 6 6 4]\n"
     ]
    }
   ],
   "source": [
    "def predict_label(logits_output):\n",
    "    predict_y = np.argmax(logits_output, axis = 1)\n",
    "    return predict_y\n",
    "\n",
    "print(predict_label(output))"
   ]
  },
  {
   "cell_type": "code",
   "execution_count": 14,
   "metadata": {
    "scrolled": true
   },
   "outputs": [
    {
     "name": "stdout",
     "output_type": "stream",
     "text": [
      "[[5.9094600e-04]\n",
      " [4.5378364e-04]\n",
      " [4.5375494e-04]\n",
      " [8.3453470e-01]\n",
      " [4.5379330e-04]\n",
      " [9.8683369e-01]\n",
      " [9.9995452e-01]]\n"
     ]
    }
   ],
   "source": [
    "def exp_evidence(logits): \n",
    "    return np.exp(np.clip(logits,-10,10))\n",
    "\n",
    "def uncertainty_score( logits_output ):\n",
    "    evidence = exp_evidence(logits_output)\n",
    "    alpha = evidence + 1\n",
    "    u_score = 10 / np.sum(alpha, axis=1, keepdims=True)  # K = num_classes = 10\n",
    "    return u_score\n",
    "\n",
    "print(uncertainty_score(output))"
   ]
  },
  {
   "cell_type": "code",
   "execution_count": 16,
   "metadata": {},
   "outputs": [],
   "source": [
    "y_pred = predict_label(output)\n",
    "uncertainty_y_list = uncertainty_score(output)"
   ]
  },
  {
   "cell_type": "code",
   "execution_count": 17,
   "metadata": {},
   "outputs": [
    {
     "name": "stdout",
     "output_type": "stream",
     "text": [
      "True \t Predict \t Uncertainty \t Match\n",
      "6  \t 6 \t\t  [0.00059095]\n",
      "6  \t 6 \t\t  [0.00045378]\n",
      "6  \t 6 \t\t  [0.00045375]\n",
      "6  \t 3 \t\t  [0.8345347]     !!!\n",
      "6  \t 6 \t\t  [0.00045379]\n",
      "6  \t 6 \t\t  [0.9868337]\n",
      "6  \t 4 \t\t  [0.9999545]     !!!\n"
     ]
    }
   ],
   "source": [
    "print('True \\t Predict \\t Uncertainty \\t Match')\n",
    "for i in range(y_pred.shape[0]):\n",
    "# for i in range(pred_y_list.shape[0]):\n",
    "    if np.argmax(test_y[i]) != y_pred[i]:\n",
    "        print(np.argmax(test_y[i]), ' \\t', y_pred[i], '\\t\\t ', uncertainty_y_list[i], '    !!!')\n",
    "    else:\n",
    "        print(np.argmax(test_y[i]), ' \\t', y_pred[i], '\\t\\t ', uncertainty_y_list[i])"
   ]
  },
  {
   "cell_type": "code",
   "execution_count": null,
   "metadata": {},
   "outputs": [],
   "source": []
  }
 ],
 "metadata": {
  "kernelspec": {
   "display_name": "Python 3",
   "language": "python",
   "name": "python3"
  },
  "language_info": {
   "codemirror_mode": {
    "name": "ipython",
    "version": 3
   },
   "file_extension": ".py",
   "mimetype": "text/x-python",
   "name": "python",
   "nbconvert_exporter": "python",
   "pygments_lexer": "ipython3",
   "version": "3.6.5"
  }
 },
 "nbformat": 4,
 "nbformat_minor": 2
}
