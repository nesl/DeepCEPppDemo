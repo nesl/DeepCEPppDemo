{
 "cells": [
  {
   "cell_type": "code",
   "execution_count": 7,
   "metadata": {},
   "outputs": [],
   "source": [
    "%load_ext autoreload\n",
    "%autoreload 2"
   ]
  },
  {
   "cell_type": "code",
   "execution_count": 8,
   "metadata": {},
   "outputs": [],
   "source": [
    "import socket\n",
    "import threading\n",
    "import time\n",
    "import sys\n",
    "\n",
    "import pickle\n",
    "\n",
    "import numpy as np\n",
    "\n",
    "from src.cep_definition import *\n",
    "from src.cep_es_stack import *\n",
    "from src.cep_FSM import *\n",
    "from src.cep_utils import *"
   ]
  },
  {
   "cell_type": "code",
   "execution_count": 17,
   "metadata": {
    "scrolled": false
   },
   "outputs": [
    {
     "name": "stdout",
     "output_type": "stream",
     "text": [
      "\n",
      "==========Parsing result:==========\n",
      "Combine Format:  PATTERN\n",
      "Events:  ['e1:fight', 'e2:gunshot', 'e3:convoy']\n",
      "Constraints:  []\n",
      "Time:  60\n",
      "====================================\n",
      "\n"
     ]
    },
    {
     "data": {
      "text/plain": [
       "('PATTERN', (['e1:fight', 'e2:gunshot', 'e3:convoy'], {}), ([], {}), '60')"
      ]
     },
     "execution_count": 17,
     "metadata": {},
     "output_type": "execute_result"
    }
   ],
   "source": [
    "# from cep import *\n",
    "# ce_path = 'convoy.txt'\n",
    "ce_path = 'coordinated_attack.txt'\n",
    "# ce_path = 'car_disappear.txt'\n",
    "ce_def = read_ce_def(ce_path)\n",
    "ce_def_parsing(ce_def)"
   ]
  },
  {
   "cell_type": "code",
   "execution_count": 18,
   "metadata": {},
   "outputs": [
    {
     "data": {
      "text/plain": [
       "['red_truck', 'red_truck', 'red_truck', 'red_truck']"
      ]
     },
     "execution_count": 18,
     "metadata": {},
     "output_type": "execute_result"
    }
   ],
   "source": [
    "event_info"
   ]
  },
  {
   "cell_type": "code",
   "execution_count": 12,
   "metadata": {},
   "outputs": [
    {
     "data": {
      "text/plain": [
       "{'red_truck': array([0., 0., 0., 1., 0.])}"
      ]
     },
     "execution_count": 12,
     "metadata": {},
     "output_type": "execute_result"
    }
   ],
   "source": [
    "event_dict"
   ]
  },
  {
   "cell_type": "code",
   "execution_count": 21,
   "metadata": {},
   "outputs": [
    {
     "data": {
      "text/plain": [
       "['fight', 'gunshot', 'convoy']"
      ]
     },
     "execution_count": 21,
     "metadata": {},
     "output_type": "execute_result"
    }
   ],
   "source": [
    "uniq_event"
   ]
  },
  {
   "cell_type": "code",
   "execution_count": null,
   "metadata": {},
   "outputs": [],
   "source": [
    "# creating event encoding dictionary\n",
    "def event_encoding_dict(uniq_event):\n",
    "#     uniq_event = sorted(set(event_info), key=event_info.index) # create a sorted unique event list\n",
    "    uniq_event_num = len(uniq_event)\n",
    "#     print('uniq_event_num: ',uniq_event_num)\n",
    "\n",
    "    event_dict = {}\n",
    "\n",
    "    for idx, event in enumerate(uniq_event):\n",
    "        event_dict[event] = one_hot_id(uniq_event_num+1, idx)\n",
    "\n",
    "    return event_dict"
   ]
  },
  {
   "cell_type": "code",
   "execution_count": 15,
   "metadata": {},
   "outputs": [],
   "source": [
    "uniq_event_num = len(uniq_event)\n",
    "#     print('uniq_event_num: ',uniq_event_num)\n",
    "\n",
    "event_dict = {}\n",
    "\n",
    "for idx, event in enumerate(uniq_event):\n",
    "    event_dict[event] = one_hot_id(uniq_event_num+1, idx)"
   ]
  },
  {
   "cell_type": "code",
   "execution_count": 20,
   "metadata": {},
   "outputs": [
    {
     "data": {
      "text/plain": [
       "{'fight': array([1., 0., 0., 0.]),\n",
       " 'gunshot': array([0., 1., 0., 0.]),\n",
       " 'convoy': array([0., 0., 1., 0.])}"
      ]
     },
     "execution_count": 20,
     "metadata": {},
     "output_type": "execute_result"
    }
   ],
   "source": [
    "event_dict"
   ]
  },
  {
   "cell_type": "code",
   "execution_count": 19,
   "metadata": {},
   "outputs": [
    {
     "name": "stdout",
     "output_type": "stream",
     "text": [
      "\n",
      "==========Parsing result:==========\n",
      "Combine Format:  PATTERN\n",
      "Events:  ['e1:fight', 'e2:gunshot', 'e3:convoy']\n",
      "Constraints:  []\n",
      "Time:  60\n",
      "====================================\n",
      "\n",
      "event_info:  ['fight', 'gunshot', 'convoy']\n",
      "state_info:  ['e0', 'e1', 'e2', 'e3']\n",
      "state_num:  4\n",
      "Sequence flag:  False\n",
      "\n",
      "============ProbLog model: ============\n",
      "\n",
      "p_s_e0_::t_state(e0); p_s_e1_::t_state(e1); p_s_e2_::t_state(e2); p_s_e3_::t_state(e3).\n",
      "\n",
      "p_e_fight_::t_in(fight); p_e_gunshot_::t_in(gunshot); p_e_convoy_::t_in(convoy); p_e_dont_care_::t_in(dont_care).\n",
      "\n",
      "1::n_state(e1):- t_state(e0), t_in(fight).\n",
      "1::n_state(e0):- t_state(e0), t_in(gunshot).\n",
      "1::n_state(e0):- t_state(e0), t_in(convoy).\n",
      "1::n_state(e0):- t_state(e0), t_in(dont_care).\n",
      "\n",
      "1::n_state(e1):- t_state(e1), t_in(fight).\n",
      "1::n_state(e2):- t_state(e1), t_in(gunshot).\n",
      "1::n_state(e1):- t_state(e1), t_in(convoy).\n",
      "1::n_state(e1):- t_state(e1), t_in(dont_care).\n",
      "\n",
      "1::n_state(e2):- t_state(e2), t_in(fight).\n",
      "1::n_state(e2):- t_state(e2), t_in(gunshot).\n",
      "1::n_state(e3):- t_state(e2), t_in(convoy).\n",
      "1::n_state(e2):- t_state(e2), t_in(dont_care).\n",
      "\n",
      "query(n_state(_)).\n",
      "\n",
      "\n",
      "====================================\n",
      "\n",
      "event_stack_shape:  (4, 11)\n",
      "[[1. 1. 1. 1. 1. 1. 1. 1. 1. 1. 1.]\n",
      " [0. 0. 0. 0. 0. 0. 0. 0. 0. 0. 0.]\n",
      " [0. 0. 0. 0. 0. 0. 0. 0. 0. 0. 0.]\n",
      " [0. 0. 0. 0. 0. 0. 0. 0. 0. 0. 0.]]\n"
     ]
    }
   ],
   "source": [
    "combine_format, events, constraints, time_win = ce_def_parsing(ce_def)\n",
    "    \n",
    "#     event_info, state_info, state_num = seq_info_extraction(events)\n",
    "event_info, state_info, state_num, uniq_event, event_dict, pattern_without_flag, without_info = seq_info_extraction(events)\n",
    "\n",
    "# need to inject initial state 'e0' to state_info\n",
    "#  add initial state e0 to the state_info.\n",
    "state_info.insert(0, 'e0')\n",
    "state_num = state_num+1\n",
    "\n",
    "\n",
    "print(\"event_info: \",event_info)\n",
    "print(\"state_info: \",state_info)\n",
    "print(\"state_num: \",state_num)\n",
    "\n",
    "if combine_format == 'SEQ':\n",
    "    pattern_detect_model = create_FSM_problog(state_info, event_info, uniq_event, consecutive = True)\n",
    "    seq_flag = True\n",
    "elif combine_format == 'PATTERN':\n",
    "    pattern_detect_model = create_FSM_problog(state_info, event_info, uniq_event, consecutive = False)\n",
    "    seq_flag = False \n",
    "\n",
    "\n",
    "print('Sequence flag: ', seq_flag)\n",
    "print('\\n============ProbLog model: ============\\n')\n",
    "print(pattern_detect_model)\n",
    "\n",
    "## create event dictionary based on the order of unique events\n",
    "# the dont_care event is not in the dictionary, \n",
    "# but it should be coded as [0 0 0 ... 1]\n",
    "event_dict = event_encoding_dict(event_info)\n",
    "\n",
    "\n",
    "## create run-time event stack\n",
    "## stact update rule is associated with stack \n",
    "stored_e_num = 10\n",
    "event_stack = create_event_stack(state_num, stored_e_num)\n",
    "print('\\n====================================\\n')\n",
    "print('event_stack_shape: ',event_stack.shape)\n",
    "print(event_stack)"
   ]
  },
  {
   "cell_type": "code",
   "execution_count": 24,
   "metadata": {},
   "outputs": [
    {
     "data": {
      "text/plain": [
       "4"
      ]
     },
     "execution_count": 24,
     "metadata": {},
     "output_type": "execute_result"
    }
   ],
   "source": [
    "state_num"
   ]
  },
  {
   "cell_type": "code",
   "execution_count": 34,
   "metadata": {},
   "outputs": [],
   "source": [
    "ce_buffer = [None for i in range(stored_e_num)]"
   ]
  },
  {
   "cell_type": "code",
   "execution_count": 36,
   "metadata": {},
   "outputs": [],
   "source": [
    "a = (1-1<3)"
   ]
  },
  {
   "cell_type": "code",
   "execution_count": 37,
   "metadata": {},
   "outputs": [
    {
     "data": {
      "text/plain": [
       "True"
      ]
     },
     "execution_count": 37,
     "metadata": {},
     "output_type": "execute_result"
    }
   ],
   "source": [
    "a"
   ]
  },
  {
   "cell_type": "code",
   "execution_count": 39,
   "metadata": {},
   "outputs": [
    {
     "data": {
      "text/plain": [
       "10"
      ]
     },
     "execution_count": 39,
     "metadata": {},
     "output_type": "execute_result"
    }
   ],
   "source": [
    "stored_e_num"
   ]
  },
  {
   "cell_type": "code",
   "execution_count": null,
   "metadata": {},
   "outputs": [],
   "source": [
    "x, y = input(\"Enter a two value: \").split() "
   ]
  },
  {
   "cell_type": "code",
   "execution_count": null,
   "metadata": {},
   "outputs": [],
   "source": []
  },
  {
   "cell_type": "code",
   "execution_count": null,
   "metadata": {},
   "outputs": [],
   "source": []
  },
  {
   "cell_type": "code",
   "execution_count": 1,
   "metadata": {},
   "outputs": [],
   "source": [
    "from server_convoy import *"
   ]
  },
  {
   "cell_type": "code",
   "execution_count": 2,
   "metadata": {},
   "outputs": [],
   "source": [
    "# ce = 'convoy'\n",
    "ce = 'coordinated_attack'\n",
    "server_ip = '127.0.0.2'\n",
    "target_ip = '127.0.0.1'"
   ]
  },
  {
   "cell_type": "code",
   "execution_count": 3,
   "metadata": {
    "scrolled": true
   },
   "outputs": [
    {
     "name": "stdout",
     "output_type": "stream",
     "text": [
      "Waiting connection...\n",
      "Reading Complex Event definition from:  coordinated_attack.txt\n",
      "\n",
      "==========Parsing result:==========\n",
      "Combine Format:  PATTERN\n",
      "Events:  ['e1:fight', 'e2:gunshot', 'e3:convoy']\n",
      "Constraints:  []\n",
      "Time:  60\n",
      "====================================\n",
      "\n",
      "event_info:  ['fight', 'gunshot', 'convoy']\n",
      "unique_event:  ['fight', 'gunshot', 'convoy']\n",
      "state_info:  ['e0', 'e1', 'e2', 'e3']\n",
      "state_num:  4\n",
      "Sequence flag:  False\n",
      "\n",
      "============ProbLog model: ============\n",
      "\n",
      "p_s_e0_::t_state(e0); p_s_e1_::t_state(e1); p_s_e2_::t_state(e2); p_s_e3_::t_state(e3).\n",
      "\n",
      "p_e_fight_::t_in(fight); p_e_gunshot_::t_in(gunshot); p_e_convoy_::t_in(convoy); p_e_dont_care_::t_in(dont_care).\n",
      "\n",
      "1::n_state(e1):- t_state(e0), t_in(fight).\n",
      "1::n_state(e0):- t_state(e0), t_in(gunshot).\n",
      "1::n_state(e0):- t_state(e0), t_in(convoy).\n",
      "1::n_state(e0):- t_state(e0), t_in(dont_care).\n",
      "\n",
      "1::n_state(e1):- t_state(e1), t_in(fight).\n",
      "1::n_state(e2):- t_state(e1), t_in(gunshot).\n",
      "1::n_state(e1):- t_state(e1), t_in(convoy).\n",
      "1::n_state(e1):- t_state(e1), t_in(dont_care).\n",
      "\n",
      "1::n_state(e2):- t_state(e2), t_in(fight).\n",
      "1::n_state(e2):- t_state(e2), t_in(gunshot).\n",
      "1::n_state(e3):- t_state(e2), t_in(convoy).\n",
      "1::n_state(e2):- t_state(e2), t_in(dont_care).\n",
      "\n",
      "query(n_state(_)).\n",
      "\n",
      "\n",
      "============ProbLog model Finished ============\n",
      "\n"
     ]
    },
    {
     "ename": "KeyboardInterrupt",
     "evalue": "",
     "output_type": "error",
     "traceback": [
      "\u001b[0;31m---------------------------------------------------------------------------\u001b[0m",
      "\u001b[0;31mKeyboardInterrupt\u001b[0m                         Traceback (most recent call last)",
      "\u001b[0;32m<ipython-input-3-29a5c07482a1>\u001b[0m in \u001b[0;36m<module>\u001b[0;34m()\u001b[0m\n\u001b[0;32m----> 1\u001b[0;31m \u001b[0msocket_service\u001b[0m\u001b[0;34m(\u001b[0m\u001b[0mserver_ip\u001b[0m\u001b[0;34m,\u001b[0m \u001b[0mce\u001b[0m\u001b[0;34m,\u001b[0m \u001b[0mtarget_ip\u001b[0m\u001b[0;34m,\u001b[0m \u001b[0mdiagnose\u001b[0m \u001b[0;34m=\u001b[0m \u001b[0;32mFalse\u001b[0m\u001b[0;34m)\u001b[0m\u001b[0;34m\u001b[0m\u001b[0m\n\u001b[0m",
      "\u001b[0;32m~/DeepCEPppDemo/DeepCEP/server_convoy.py\u001b[0m in \u001b[0;36msocket_service\u001b[0;34m(server_ip, ce, target_ip, diagnose)\u001b[0m\n\u001b[1;32m     78\u001b[0m \u001b[0;34m\u001b[0m\u001b[0m\n\u001b[1;32m     79\u001b[0m     \u001b[0;32mwhile\u001b[0m \u001b[0;32mTrue\u001b[0m\u001b[0;34m:\u001b[0m\u001b[0;34m\u001b[0m\u001b[0m\n\u001b[0;32m---> 80\u001b[0;31m         \u001b[0mconn\u001b[0m\u001b[0;34m,\u001b[0m \u001b[0maddr\u001b[0m \u001b[0;34m=\u001b[0m \u001b[0ms\u001b[0m\u001b[0;34m.\u001b[0m\u001b[0maccept\u001b[0m\u001b[0;34m(\u001b[0m\u001b[0;34m)\u001b[0m\u001b[0;34m\u001b[0m\u001b[0m\n\u001b[0m\u001b[1;32m     81\u001b[0m         t = threading.Thread(target=deal_data, \n\u001b[1;32m     82\u001b[0m                              args=(conn, addr, \n",
      "\u001b[0;32m~/anaconda3/lib/python3.6/socket.py\u001b[0m in \u001b[0;36maccept\u001b[0;34m(self)\u001b[0m\n\u001b[1;32m    203\u001b[0m         \u001b[0mFor\u001b[0m \u001b[0mIP\u001b[0m \u001b[0msockets\u001b[0m\u001b[0;34m,\u001b[0m \u001b[0mthe\u001b[0m \u001b[0maddress\u001b[0m \u001b[0minfo\u001b[0m \u001b[0;32mis\u001b[0m \u001b[0ma\u001b[0m \u001b[0mpair\u001b[0m \u001b[0;34m(\u001b[0m\u001b[0mhostaddr\u001b[0m\u001b[0;34m,\u001b[0m \u001b[0mport\u001b[0m\u001b[0;34m)\u001b[0m\u001b[0;34m.\u001b[0m\u001b[0;34m\u001b[0m\u001b[0m\n\u001b[1;32m    204\u001b[0m         \"\"\"\n\u001b[0;32m--> 205\u001b[0;31m         \u001b[0mfd\u001b[0m\u001b[0;34m,\u001b[0m \u001b[0maddr\u001b[0m \u001b[0;34m=\u001b[0m \u001b[0mself\u001b[0m\u001b[0;34m.\u001b[0m\u001b[0m_accept\u001b[0m\u001b[0;34m(\u001b[0m\u001b[0;34m)\u001b[0m\u001b[0;34m\u001b[0m\u001b[0m\n\u001b[0m\u001b[1;32m    206\u001b[0m         \u001b[0;31m# If our type has the SOCK_NONBLOCK flag, we shouldn't pass it onto the\u001b[0m\u001b[0;34m\u001b[0m\u001b[0;34m\u001b[0m\u001b[0m\n\u001b[1;32m    207\u001b[0m         \u001b[0;31m# new socket. We do not currently allow passing SOCK_NONBLOCK to\u001b[0m\u001b[0;34m\u001b[0m\u001b[0;34m\u001b[0m\u001b[0m\n",
      "\u001b[0;31mKeyboardInterrupt\u001b[0m: "
     ]
    }
   ],
   "source": [
    "socket_service(server_ip, ce, target_ip, diagnose = False)"
   ]
  },
  {
   "cell_type": "code",
   "execution_count": null,
   "metadata": {},
   "outputs": [],
   "source": [
    "socket_client(server_ip)"
   ]
  },
  {
   "cell_type": "code",
   "execution_count": null,
   "metadata": {},
   "outputs": [],
   "source": []
  }
 ],
 "metadata": {
  "kernelspec": {
   "display_name": "Python 3",
   "language": "python",
   "name": "python3"
  },
  "language_info": {
   "codemirror_mode": {
    "name": "ipython",
    "version": 3
   },
   "file_extension": ".py",
   "mimetype": "text/x-python",
   "name": "python",
   "nbconvert_exporter": "python",
   "pygments_lexer": "ipython3",
   "version": "3.6.5"
  }
 },
 "nbformat": 4,
 "nbformat_minor": 2
}
