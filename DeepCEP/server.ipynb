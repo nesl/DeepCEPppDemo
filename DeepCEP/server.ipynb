{
 "cells": [
  {
   "cell_type": "code",
   "execution_count": 1,
   "metadata": {},
   "outputs": [],
   "source": [
    "%load_ext autoreload\n",
    "%autoreload 2"
   ]
  },
  {
   "cell_type": "code",
   "execution_count": 2,
   "metadata": {},
   "outputs": [],
   "source": [
    "import socket\n",
    "import threading\n",
    "import time\n",
    "import sys\n",
    "\n",
    "import pickle\n",
    "\n",
    "import numpy as np\n",
    "\n",
    "from src.cep_definition import *\n",
    "from src.cep_es_stack import *\n",
    "from src.cep_FSM import *\n",
    "from src.cep_utils import *"
   ]
  },
  {
   "cell_type": "code",
   "execution_count": 3,
   "metadata": {
    "scrolled": false
   },
   "outputs": [
    {
     "name": "stdout",
     "output_type": "stream",
     "text": [
      "\n",
      "==========Parsing result:==========\n",
      "Combine Format:  PATTERN\n",
      "Events:  ['e1:fight', 'e2:gunshot', 'e3:red_truck']\n",
      "Constraints:  []\n",
      "Time:  60\n",
      "====================================\n",
      "\n"
     ]
    },
    {
     "data": {
      "text/plain": [
       "('PATTERN', (['e1:fight', 'e2:gunshot', 'e3:red_truck'], {}), ([], {}), '60')"
      ]
     },
     "execution_count": 3,
     "metadata": {},
     "output_type": "execute_result"
    }
   ],
   "source": [
    "# from cep import *\n",
    "ce_path = 'coordinated_attack.txt'\n",
    "# ce_path = 'car_disappear.txt'\n",
    "ce_def = read_ce_def(ce_path)\n",
    "ce_def_parsing(ce_def)"
   ]
  },
  {
   "cell_type": "code",
   "execution_count": 20,
   "metadata": {},
   "outputs": [
    {
     "data": {
      "text/plain": [
       "'p_s_e0_::t_state(e0); p_s_e1_::t_state(e1); p_s_e2_::t_state(e2); p_s_e3_::t_state(e3).\\n\\np_e_fight_::t_in(fight); p_e_gunshot_::t_in(gunshot); p_e_red_truck_::t_in(red_truck); p_e_dont_care_::t_in(dont_care).\\n\\n1::n_state(e1):- t_state(e0), t_in(fight).\\n1::n_state(e0):- t_state(e0), t_in(gunshot).\\n1::n_state(e0):- t_state(e0), t_in(red_truck).\\n1::n_state(e0):- t_state(e0), t_in(dont_care).\\n\\n1::n_state(e1):- t_state(e1), t_in(fight).\\n1::n_state(e2):- t_state(e1), t_in(gunshot).\\n1::n_state(e1):- t_state(e1), t_in(red_truck).\\n1::n_state(e1):- t_state(e1), t_in(dont_care).\\n\\n1::n_state(e2):- t_state(e2), t_in(fight).\\n1::n_state(e2):- t_state(e2), t_in(gunshot).\\n1::n_state(e3):- t_state(e2), t_in(red_truck).\\n1::n_state(e2):- t_state(e2), t_in(dont_care).\\n\\nquery(n_state(_)).\\n'"
      ]
     },
     "execution_count": 20,
     "metadata": {},
     "output_type": "execute_result"
    }
   ],
   "source": [
    "pattern_detect_model"
   ]
  },
  {
   "cell_type": "code",
   "execution_count": 21,
   "metadata": {},
   "outputs": [
    {
     "name": "stdout",
     "output_type": "stream",
     "text": [
      "\n",
      "==========Parsing result:==========\n",
      "Combine Format:  PATTERN\n",
      "Events:  ['e1:fight', 'e2:gunshot', 'e3:red_truck']\n",
      "Constraints:  []\n",
      "Time:  60\n",
      "====================================\n",
      "\n",
      "event_info:  ['fight', 'gunshot', 'red_truck']\n",
      "state_info:  ['e0', 'e1', 'e2', 'e3']\n",
      "state_num:  4\n",
      "Sequence flag:  False\n",
      "\n",
      "============ProbLog model: ============\n",
      "\n",
      "p_s_e0_::t_state(e0); p_s_e1_::t_state(e1); p_s_e2_::t_state(e2); p_s_e3_::t_state(e3).\n",
      "\n",
      "p_e_fight_::t_in(fight); p_e_gunshot_::t_in(gunshot); p_e_red_truck_::t_in(red_truck); p_e_dont_care_::t_in(dont_care).\n",
      "\n",
      "1::n_state(e1):- t_state(e0), t_in(fight).\n",
      "1::n_state(e0):- t_state(e0), t_in(gunshot).\n",
      "1::n_state(e0):- t_state(e0), t_in(red_truck).\n",
      "1::n_state(e0):- t_state(e0), t_in(dont_care).\n",
      "\n",
      "1::n_state(e1):- t_state(e1), t_in(fight).\n",
      "1::n_state(e2):- t_state(e1), t_in(gunshot).\n",
      "1::n_state(e1):- t_state(e1), t_in(red_truck).\n",
      "1::n_state(e1):- t_state(e1), t_in(dont_care).\n",
      "\n",
      "1::n_state(e2):- t_state(e2), t_in(fight).\n",
      "1::n_state(e2):- t_state(e2), t_in(gunshot).\n",
      "1::n_state(e3):- t_state(e2), t_in(red_truck).\n",
      "1::n_state(e2):- t_state(e2), t_in(dont_care).\n",
      "\n",
      "query(n_state(_)).\n",
      "\n",
      "\n",
      "====================================\n",
      "\n",
      "event_stack_shape:  (4, 11)\n",
      "[[1. 1. 1. 1. 1. 1. 1. 1. 1. 1. 1.]\n",
      " [0. 0. 0. 0. 0. 0. 0. 0. 0. 0. 0.]\n",
      " [0. 0. 0. 0. 0. 0. 0. 0. 0. 0. 0.]\n",
      " [0. 0. 0. 0. 0. 0. 0. 0. 0. 0. 0.]]\n"
     ]
    }
   ],
   "source": [
    "combine_format, events, constraints, time_win = ce_def_parsing(ce_def)\n",
    "    \n",
    "#     event_info, state_info, state_num = seq_info_extraction(events)\n",
    "event_info, state_info, state_num, uniq_event, event_dict, pattern_without_flag, without_info = seq_info_extraction(events)\n",
    "\n",
    "# need to inject initial state 'e0' to state_info\n",
    "#  add initial state e0 to the state_info.\n",
    "state_info.insert(0, 'e0')\n",
    "state_num = state_num+1\n",
    "\n",
    "\n",
    "print(\"event_info: \",event_info)\n",
    "print(\"state_info: \",state_info)\n",
    "print(\"state_num: \",state_num)\n",
    "\n",
    "if combine_format == 'SEQ':\n",
    "    pattern_detect_model = create_FSM_problog(state_info, event_info, uniq_event, consecutive = True)\n",
    "    seq_flag = True\n",
    "elif combine_format == 'PATTERN':\n",
    "    pattern_detect_model = create_FSM_problog(state_info, event_info, uniq_event, consecutive = False)\n",
    "    seq_flag = False \n",
    "\n",
    "\n",
    "print('Sequence flag: ', seq_flag)\n",
    "print('\\n============ProbLog model: ============\\n')\n",
    "print(pattern_detect_model)\n",
    "\n",
    "## create event dictionary based on the order of unique events\n",
    "# the dont_care event is not in the dictionary, \n",
    "# but it should be coded as [0 0 0 ... 1]\n",
    "event_dict = event_encoding_dict(event_info)\n",
    "\n",
    "\n",
    "## create run-time event stack\n",
    "## stact update rule is associated with stack \n",
    "stored_e_num = 10\n",
    "event_stack = create_event_stack(state_num, stored_e_num)\n",
    "print('\\n====================================\\n')\n",
    "print('event_stack_shape: ',event_stack.shape)\n",
    "print(event_stack)"
   ]
  },
  {
   "cell_type": "code",
   "execution_count": 24,
   "metadata": {},
   "outputs": [
    {
     "data": {
      "text/plain": [
       "4"
      ]
     },
     "execution_count": 24,
     "metadata": {},
     "output_type": "execute_result"
    }
   ],
   "source": [
    "state_num"
   ]
  },
  {
   "cell_type": "code",
   "execution_count": 34,
   "metadata": {},
   "outputs": [],
   "source": [
    "ce_buffer = [None for i in range(stored_e_num)]"
   ]
  },
  {
   "cell_type": "code",
   "execution_count": 36,
   "metadata": {},
   "outputs": [],
   "source": [
    "a = (1-1<3)"
   ]
  },
  {
   "cell_type": "code",
   "execution_count": 37,
   "metadata": {},
   "outputs": [
    {
     "data": {
      "text/plain": [
       "True"
      ]
     },
     "execution_count": 37,
     "metadata": {},
     "output_type": "execute_result"
    }
   ],
   "source": [
    "a"
   ]
  },
  {
   "cell_type": "code",
   "execution_count": 39,
   "metadata": {},
   "outputs": [
    {
     "data": {
      "text/plain": [
       "10"
      ]
     },
     "execution_count": 39,
     "metadata": {},
     "output_type": "execute_result"
    }
   ],
   "source": [
    "stored_e_num"
   ]
  },
  {
   "cell_type": "code",
   "execution_count": null,
   "metadata": {},
   "outputs": [],
   "source": []
  }
 ],
 "metadata": {
  "kernelspec": {
   "display_name": "Python 3",
   "language": "python",
   "name": "python3"
  },
  "language_info": {
   "codemirror_mode": {
    "name": "ipython",
    "version": 3
   },
   "file_extension": ".py",
   "mimetype": "text/x-python",
   "name": "python",
   "nbconvert_exporter": "python",
   "pygments_lexer": "ipython3",
   "version": "3.6.5"
  }
 },
 "nbformat": 4,
 "nbformat_minor": 2
}
